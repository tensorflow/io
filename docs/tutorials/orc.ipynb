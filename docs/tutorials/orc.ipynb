{
  "cells": [
    {
      "cell_type": "markdown",
      "metadata": {
        "id": "Tce3stUlHN0L"
      },
      "source": [
        "##### Copyright 2021 The TensorFlow Authors."
      ]
    },
    {
      "cell_type": "code",
      "execution_count": null,
      "metadata": {
        "cellView": "form",
        "id": "tuOe1ymfHZPu"
      },
      "outputs": [],
      "source": [
        "#@title Licensed under the Apache License, Version 2.0 (the \"License\");\n",
        "# you may not use this file except in compliance with the License.\n",
        "# You may obtain a copy of the License at\n",
        "#\n",
        "# https://www.apache.org/licenses/LICENSE-2.0\n",
        "#\n",
        "# Unless required by applicable law or agreed to in writing, software\n",
        "# distributed under the License is distributed on an \"AS IS\" BASIS,\n",
        "# WITHOUT WARRANTIES OR CONDITIONS OF ANY KIND, either express or implied.\n",
        "# See the License for the specific language governing permissions and\n",
        "# limitations under the License."
      ]
    },
    {
      "cell_type": "markdown",
      "metadata": {
        "id": "qFdPvlXBOdUN"
      },
      "source": [
        "# Apache ORC Reader"
      ]
    },
    {
      "cell_type": "markdown",
      "metadata": {
        "id": "MfBg1C5NB3X0"
      },
      "source": [
        "<table class=\"tfo-notebook-buttons\" align=\"left\">\n",
        "  <td>\n",
        "    <a target=\"_blank\" href=\"https://www.tensorflow.org/io/tutorials/orc\"><img src=\"https://www.tensorflow.org/images/tf_logo_32px.png\" />View on TensorFlow.org</a>\n",
        "  </td>\n",
        "  <td>\n",
        "    <a target=\"_blank\" href=\"https://colab.research.google.com/github/tensorflow/io/blob/master/docs/tutorials/orc.ipynb\"><img src=\"https://www.tensorflow.org/images/colab_logo_32px.png\" />Run in Google Colab</a>\n",
        "  </td>\n",
        "  <td>\n",
        "    <a target=\"_blank\" href=\"https://github.com/tensorflow/io/blob/master/docs/tutorials/orc.ipynb\"><img src=\"https://www.tensorflow.org/images/GitHub-Mark-32px.png\" />View on GitHub</a>\n",
        "  </td>\n",
        "  <td>\n",
        "    <a href=\"https://storage.googleapis.com/tensorflow_docs/io/docs/tutorials/orc.ipynb\"><img src=\"https://www.tensorflow.org/images/download_logo_32px.png\" />Download notebook</a>\n",
        "  </td>\n",
        "</table>"
      ]
    },
    {
      "cell_type": "markdown",
      "metadata": {
        "id": "xHxb-dlhMIzW"
      },
      "source": [
        "## Overview\n",
        "\n",
        "Apache ORC is a popular columnar storage format. tensorflow-io package provides a default implementation of reading [Apache ORC](https://orc.apache.org/) files."
      ]
    },
    {
      "cell_type": "markdown",
      "metadata": {
        "id": "MUXex9ctTuDB"
      },
      "source": [
        "## Setup"
      ]
    },
    {
      "cell_type": "markdown",
      "metadata": {
        "id": "1Eh-iCRVBm0p"
      },
      "source": [
        "Install required packages, and restart runtime\n"
      ]
    },
    {
      "cell_type": "code",
      "execution_count": 1,
      "metadata": {
        "id": "g7cxbf1-skn6"
      },
      "outputs": [
        {
          "name": "stdout",
          "output_type": "stream",
          "text": [
            "Collecting tensorflow-io\n",
            "\u001b[?25l  Downloading https://files.pythonhosted.org/packages/d2/b7/b76c28a422ebaf1c3d97aa6553e8620cc3b0d91976415b4ca255176c7946/tensorflow_io-0.19.0-cp37-cp37m-manylinux_2_12_x86_64.manylinux2010_x86_64.whl (22.7MB)\n",
            "\u001b[K     |████████████████████████████████| 22.7MB 128kB/s \n",
            "\u001b[?25hCollecting tensorflow-io-gcs-filesystem==0.19.0\n",
            "\u001b[?25l  Downloading https://files.pythonhosted.org/packages/5d/3a/5c1cc819ff1adfd47fa119a8b904a12207c64bdb1f61f2ef726f03a0cdc6/tensorflow_io_gcs_filesystem-0.19.0-cp37-cp37m-manylinux_2_12_x86_64.manylinux2010_x86_64.whl (2.3MB)\n",
            "\u001b[K     |████████████████████████████████| 2.3MB 31.6MB/s \n",
            "\u001b[?25hRequirement already satisfied: tensorflow<2.6.0,>=2.5.0 in /usr/local/lib/python3.7/dist-packages (from tensorflow-io) (2.5.0)\n",
            "Requirement already satisfied: absl-py~=0.10 in /usr/local/lib/python3.7/dist-packages (from tensorflow<2.6.0,>=2.5.0->tensorflow-io) (0.12.0)\n",
            "Requirement already satisfied: zipp>=0.5 in /usr/local/lib/python3.7/dist-packages (from importlib-metadata; python_version < \"3.8\"->markdown>=2.6.8->tensorboard~=2.5->tensorflow<2.6.0,>=2.5.0->tensorflow-io) (3.4.1)\n",
            "Requirement already satisfied: pyasn1>=0.1.3 in /usr/local/lib/python3.7/dist-packages (from rsa<5,>=3.1.4; python_version >= \"3.6\"->google-auth<2,>=1.6.3->tensorboard~=2.5->tensorflow<2.6.0,>=2.5.0->tensorflow-io) (0.4.8)\n",
            "Requirement already satisfied: oauthlib>=3.0.0 in /usr/local/lib/python3.7/dist-packages (from requests-oauthlib>=0.7.0->google-auth-oauthlib<0.5,>=0.4.1->tensorboard~=2.5->tensorflow<2.6.0,>=2.5.0->tensorflow-io) (3.1.1)\n",
            "Installing collected packages: tensorflow-io-gcs-filesystem, tensorflow-io\n",
            "Successfully installed tensorflow-io-0.19.0 tensorflow-io-gcs-filesystem-0.19.0\n"
          ]
        }
      ],
      "source": [
        "!pip install tensorflow-io"
      ]
    },
    {
      "cell_type": "code",
      "execution_count": 2,
      "metadata": {
        "id": "IqR2PQG4ZaZ0"
      },
      "outputs": [],
      "source": [
        "import tensorflow as tf\n",
        "import tensorflow_io as tfio"
      ]
    },
    {
      "cell_type": "markdown",
      "metadata": {
        "id": "EyHfC3nEzseN"
      },
      "source": [
        "### Download a sample ORC file"
      ]
    },
    {
      "cell_type": "code",
      "execution_count": 3,
      "metadata": {
        "id": "zaiXjZiXzrHs"
      },
      "outputs": [
        {
          "name": "stdout",
          "output_type": "stream",
          "text": [
            "  % Total    % Received % Xferd  Average Speed   Time    Time     Time  Current\n",
            "                                 Dload  Upload   Total   Spent    Left  Speed\n",
            "100   144  100   144    0     0    862      0 --:--:-- --:--:-- --:--:--   862\n",
            "100  3328  100  3328    0     0   9618      0 --:--:-- --:--:-- --:--:--     0\n",
            "-rw-r--r-- 1 root root 3328 Jun 25 18:05 iris.orc\n"
          ]
        }
      ],
      "source": [
        "!curl -OL https://github.com/tensorflow/io/raw/master/tests/test_orc/iris.orc\n",
        "!ls -l iris.orc"
      ]
    },
    {
      "cell_type": "markdown",
      "metadata": {
        "id": "7DG9JTJ0-bzg"
      },
      "source": [
        "### Create a dataset from the file"
      ]
    },
    {
      "cell_type": "code",
      "execution_count": 4,
      "metadata": {
        "id": "ppFAjXAYsj-z"
      },
      "outputs": [],
      "source": [
        "dataset = tfio.IODataset.from_orc(\"iris.orc\", capacity=15).batch(1)"
      ]
    },
    {
      "cell_type": "markdown",
      "metadata": {
        "id": "4xPr3f4LVdeN"
      },
      "source": [
        "Examine the dataset:"
      ]
    },
    {
      "cell_type": "code",
      "execution_count": 5,
      "metadata": {
        "id": "9B1QUKG70Lzs"
      },
      "outputs": [
        {
          "name": "stdout",
          "output_type": "stream",
          "text": [
            "[5.1] [3.5] [1.4] [0.2] [b'setosa']\n"
          ]
        }
      ],
      "source": [
        "for sepal_length, sepal_width, petal_length, petal_width, species in dataset:\n",
        "  print(sepal_length.numpy(), sepal_width.numpy(), petal_length.numpy(), petal_width.numpy(), species.numpy())\n",
        "  break"
      ]
    },
    {
      "cell_type": "markdown",
      "metadata": {
        "id": "h4u4Z17h0-Cl"
      },
      "source": [
        "## Build a model reading ORC with Keras"
      ]
    },
    {
      "cell_type": "markdown",
      "metadata": {
        "id": "03qncHJPVNK3"
      },
      "source": [
        "Let's walk through an end-to-end example of tf.keras model training with ORC dataset based on iris dataset."
      ]
    },
    {
      "cell_type": "markdown",
      "metadata": {
        "id": "tDkpKRMVcPfb"
      },
      "source": [
        "### Data preprocessing"
      ]
    },
    {
      "cell_type": "markdown",
      "metadata": {
        "id": "nDgkfWFRVjKz"
      },
      "source": [
        "Configure which columns are features, and which column is label:"
      ]
    },
    {
      "cell_type": "code",
      "execution_count": 6,
      "metadata": {
        "id": "R1OYAybz07dr"
      },
      "outputs": [],
      "source": [
        "feature_cols = [\"sepal_length\", \"sepal_width\", \"petal_length\", \"petal_width\"]\n",
        "label_cols = [\"species\"]\n",
        "\n",
        "# select feature columns\n",
        "feature_dataset = tfio.IODataset.from_orc(\"iris.orc\", columns=feature_cols)\n",
        "# select label columns\n",
        "label_dataset = tfio.IODataset.from_orc(\"iris.orc\", columns=label_cols)"
      ]
    },
    {
      "cell_type": "markdown",
      "metadata": {
        "id": "GSYMP48vVvV0"
      },
      "source": [
        "A util function to map species to float numbers for model training:"
      ]
    },
    {
      "cell_type": "code",
      "execution_count": 7,
      "metadata": {
        "id": "TQvuE7OgVs1q"
      },
      "outputs": [],
      "source": [
        "@tf.function\n",
        "def species_float_conversion(x):\n",
        "    if x == \"virginica\":\n",
        "        return 1.0\n",
        "    if x == \"versicolor\":\n",
        "        return 2.0\n",
        "    if x == \"setosa\":\n",
        "        return 3.0\n",
        "    return 4.0\n"
      ]
    },
    {
      "cell_type": "markdown",
      "metadata": {
        "id": "U9iy27hXV-yv"
      },
      "source": [
        "Dataset preprocessing:"
      ]
    },
    {
      "cell_type": "code",
      "execution_count": 8,
      "metadata": {
        "id": "lpf0w41iWAZ4"
      },
      "outputs": [],
      "source": [
        "label_dataset = label_dataset.map(species_float_conversion)\n",
        "dataset = tf.data.Dataset.zip((feature_dataset, label_dataset))\n",
        "dataset = dataset.batch(1)\n",
        "\n",
        "def pack_features_vector(features, labels):\n",
        "    \"\"\"Pack the features into a single array.\"\"\"\n",
        "    features = tf.stack(list(features), axis=1)\n",
        "    return features, labels\n",
        "\n",
        "dataset = dataset.map(pack_features_vector)"
      ]
    },
    {
      "cell_type": "markdown",
      "metadata": {
        "id": "R1Tyf3AodC2Y"
      },
      "source": [
        "### Build, compile and train the model"
      ]
    },
    {
      "cell_type": "markdown",
      "metadata": {
        "id": "oVB9Q0B-WDn4"
      },
      "source": [
        "Finally, build the keras model and train it!"
      ]
    },
    {
      "cell_type": "code",
      "execution_count": 9,
      "metadata": {
        "id": "tToy0FoOWG-9"
      },
      "outputs": [
        {
          "name": "stdout",
          "output_type": "stream",
          "text": [
            "Epoch 1/5\n",
            "150/150 [==============================] - 1s 2ms/step - loss: 15.6634 - accuracy: 0.3333\n",
            "Epoch 2/5\n",
            "150/150 [==============================] - 0s 2ms/step - loss: 15.4835 - accuracy: 0.3333\n",
            "Epoch 3/5\n",
            "150/150 [==============================] - 0s 2ms/step - loss: 15.4835 - accuracy: 0.3333\n",
            "Epoch 4/5\n",
            "150/150 [==============================] - 0s 2ms/step - loss: 15.4835 - accuracy: 0.3333\n",
            "Epoch 5/5\n",
            "150/150 [==============================] - 0s 2ms/step - loss: 15.4835 - accuracy: 0.3333\n"
          ]
        },
        {
          "data": {
            "text/plain": [
              "<tensorflow.python.keras.callbacks.History at 0x7fdaa5b86c50>"
            ]
          },
          "execution_count": 9,
          "metadata": {
            "tags": []
          },
          "output_type": "execute_result"
        }
      ],
      "source": [
        "model = tf.keras.Sequential(\n",
        "    [\n",
        "        tf.keras.layers.Dense(\n",
        "            10, activation=tf.nn.relu, input_shape=(4,)\n",
        "        ),  # input shape required\n",
        "        tf.keras.layers.Dense(10, activation=tf.nn.relu),\n",
        "        tf.keras.layers.Dense(3),\n",
        "    ]\n",
        ")\n",
        "\n",
        "model.compile(optimizer=\"adam\", loss=\"binary_crossentropy\", metrics=[\"accuracy\"])\n",
        "model.fit(dataset, epochs=5)"
      ]
    }
  ],
  "metadata": {
    "colab": {
      "collapsed_sections": [
        "Tce3stUlHN0L"
      ],
      "name": "orc.ipynb",
      "toc_visible": true
    },
    "kernelspec": {
      "display_name": "Python 3",
      "name": "python3"
    }
  },
  "nbformat": 4,
  "nbformat_minor": 0
}
