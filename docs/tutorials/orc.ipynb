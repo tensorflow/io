{
  "nbformat": 4,
  "nbformat_minor": 0,
  "metadata": {
    "colab": {
      "name": "orc.ipynb",
      "provenance": [],
      "collapsed_sections": [
        "Tce3stUlHN0L"
      ],
      "toc_visible": true
    },
    "kernelspec": {
      "display_name": "Python 3",
      "name": "python3"
    }
  },
  "cells": [
    {
      "cell_type": "markdown",
      "metadata": {
        "id": "Tce3stUlHN0L"
      },
      "source": [
        "##### Copyright 2021 The TensorFlow Authors."
      ]
    },
    {
      "cell_type": "code",
      "metadata": {
        "cellView": "form",
        "id": "tuOe1ymfHZPu"
      },
      "source": [
        "#@title Licensed under the Apache License, Version 2.0 (the \"License\");\n",
        "# you may not use this file except in compliance with the License.\n",
        "# You may obtain a copy of the License at\n",
        "#\n",
        "# https://www.apache.org/licenses/LICENSE-2.0\n",
        "#\n",
        "# Unless required by applicable law or agreed to in writing, software\n",
        "# distributed under the License is distributed on an \"AS IS\" BASIS,\n",
        "# WITHOUT WARRANTIES OR CONDITIONS OF ANY KIND, either express or implied.\n",
        "# See the License for the specific language governing permissions and\n",
        "# limitations under the License."
      ],
      "execution_count": null,
      "outputs": []
    },
    {
      "cell_type": "markdown",
      "metadata": {
        "id": "qFdPvlXBOdUN"
      },
      "source": [
        "# Apache ORC Reader"
      ]
    },
    {
      "cell_type": "markdown",
      "metadata": {
        "id": "MfBg1C5NB3X0"
      },
      "source": [
        "<table class=\"tfo-notebook-buttons\" align=\"left\">\n",
        "  <td>\n",
        "    <a target=\"_blank\" href=\"https://www.tensorflow.org/io/tutorials/orc\"><img src=\"https://www.tensorflow.org/images/tf_logo_32px.png\" />View on TensorFlow.org</a>\n",
        "  </td>\n",
        "  <td>\n",
        "    <a target=\"_blank\" href=\"https://colab.research.google.com/github/tensorflow/io/blob/master/docs/tutorials/orc.ipynb\"><img src=\"https://www.tensorflow.org/images/colab_logo_32px.png\" />Run in Google Colab</a>\n",
        "  </td>\n",
        "  <td>\n",
        "    <a target=\"_blank\" href=\"https://github.com/tensorflow/io/blob/master/docs/tutorials/orc.ipynb\"><img src=\"https://www.tensorflow.org/images/GitHub-Mark-32px.png\" />View on GitHub</a>\n",
        "  </td>\n",
        "  <td>\n",
        "    <a href=\"https://storage.googleapis.com/tensorflow_docs/io/docs/tutorials/orc.ipynb\"><img src=\"https://www.tensorflow.org/images/download_logo_32px.png\" />Download notebook</a>\n",
        "  </td>\n",
        "</table>"
      ]
    },
    {
      "cell_type": "markdown",
      "metadata": {
        "id": "xHxb-dlhMIzW"
      },
      "source": [
        "## Overview\n",
        "\n",
        "Apache ORC is a popular columnar storage format. tensorflow-io package provides a default implementation of reading Apache ORC files."
      ]
    },
    {
      "cell_type": "markdown",
      "metadata": {
        "id": "MUXex9ctTuDB"
      },
      "source": [
        "## Setup"
      ]
    },
    {
      "cell_type": "markdown",
      "metadata": {
        "id": "1Eh-iCRVBm0p"
      },
      "source": [
        "Install required Packages, and restart runtime\n"
      ]
    },
    {
      "cell_type": "code",
      "metadata": {
        "colab": {
          "base_uri": "https://localhost:8080/"
        },
        "id": "g7cxbf1-skn6",
        "outputId": "9ee938ea-cf8c-4523-b731-287f5845017a"
      },
      "source": [
        "!pip install tensorflow-io"
      ],
      "execution_count": 1,
      "outputs": [
        {
          "output_type": "stream",
          "text": [
            "Collecting tensorflow-io\n",
            "\u001b[?25l  Downloading https://files.pythonhosted.org/packages/e6/d2/6fd39a3519e325037462721092248b468ccbeeeb5dc870cea072655ee4b0/tensorflow_io-0.18.0-cp37-cp37m-manylinux_2_12_x86_64.manylinux2010_x86_64.whl (24.1MB)\n",
            "\u001b[K     |████████████████████████████████| 24.1MB 118kB/s \n",
            "\u001b[?25hCollecting tensorflow-io-gcs-filesystem==0.18.0\n",
            "\u001b[?25l  Downloading https://files.pythonhosted.org/packages/27/37/6cedfcc52f1d53a79a60204fc89d1f7ca099c5d3a999d4640a2fe407e91b/tensorflow_io_gcs_filesystem-0.18.0-cp37-cp37m-manylinux_2_12_x86_64.manylinux2010_x86_64.whl (2.5MB)\n",
            "\u001b[K     |████████████████████████████████| 2.5MB 36.8MB/s \n",
            "\u001b[?25hRequirement already satisfied: tensorflow<2.6.0,>=2.5.0 in /usr/local/lib/python3.7/dist-packages (from tensorflow-io) (2.5.0)\n",
            "Requirement already satisfied: pyasn1<0.5.0,>=0.4.6 in /usr/local/lib/python3.7/dist-packages (from pyasn1-modules>=0.2.1->google-auth<2,>=1.6.3->tensorboard~=2.5->tensorflow<2.6.0,>=2.5.0->tensorflow-io) (0.4.8)\n",
            "Installing collected packages: tensorflow-io-gcs-filesystem, tensorflow-io\n",
            "Successfully installed tensorflow-io-0.18.0 tensorflow-io-gcs-filesystem-0.18.0\n"
          ],
          "name": "stdout"
        }
      ]
    },
    {
      "cell_type": "code",
      "metadata": {
        "id": "IqR2PQG4ZaZ0"
      },
      "source": [
        "import tensorflow as tf\n",
        "import tensorflow_io as tfio"
      ],
      "execution_count": 2,
      "outputs": []
    },
    {
      "cell_type": "markdown",
      "metadata": {
        "id": "EyHfC3nEzseN"
      },
      "source": [
        "## Download a sample ORC file"
      ]
    },
    {
      "cell_type": "code",
      "metadata": {
        "colab": {
          "base_uri": "https://localhost:8080/"
        },
        "id": "zaiXjZiXzrHs",
        "outputId": "c838eb24-80f7-4862-f9b4-d5a3b7302125"
      },
      "source": [
        "!curl -OL https://github.com/tensorflow/io/raw/master/tests/test_orc/iris.orc\n",
        "!ls -l iris.orc"
      ],
      "execution_count": 3,
      "outputs": [
        {
          "output_type": "stream",
          "text": [
            "  % Total    % Received % Xferd  Average Speed   Time    Time     Time  Current\n",
            "                                 Dload  Upload   Total   Spent    Left  Speed\n",
            "\r  0     0    0     0    0     0      0      0 --:--:-- --:--:-- --:--:--     0\r100   144  100   144    0     0   1655      0 --:--:-- --:--:-- --:--:--  1655\n",
            "\r100  3328  100  3328    0     0  18592      0 --:--:-- --:--:-- --:--:-- 18592\n",
            "-rw-r--r-- 1 root root 3328 Jun 25 06:15 iris.orc\n"
          ],
          "name": "stdout"
        }
      ]
    },
    {
      "cell_type": "markdown",
      "metadata": {
        "id": "7DG9JTJ0-bzg"
      },
      "source": [
        "## Create a dataset from the file"
      ]
    },
    {
      "cell_type": "code",
      "metadata": {
        "id": "ppFAjXAYsj-z"
      },
      "source": [
        "dataset = tfio.IODataset.from_orc(\"iris.orc\", capacity=15).batch(1)"
      ],
      "execution_count": 4,
      "outputs": []
    },
    {
      "cell_type": "code",
      "metadata": {
        "colab": {
          "base_uri": "https://localhost:8080/"
        },
        "id": "9B1QUKG70Lzs",
        "outputId": "acf21714-2113-4f8a-ce2e-18ddbd44ef7d"
      },
      "source": [
        "for sepal_length, sepal_width, petal_length, petal_width, species in dataset:\n",
        "  print(sepal_length.numpy(), sepal_width.numpy(), petal_length.numpy(), petal_width.numpy(), species.numpy())\n",
        "  break"
      ],
      "execution_count": 9,
      "outputs": [
        {
          "output_type": "stream",
          "text": [
            "[5.1] [3.5] [1.4] [0.2] [b'setosa']\n"
          ],
          "name": "stdout"
        }
      ]
    },
    {
      "cell_type": "markdown",
      "metadata": {
        "id": "h4u4Z17h0-Cl"
      },
      "source": [
        "## Build a model reading ORC with Keras"
      ]
    },
    {
      "cell_type": "code",
      "metadata": {
        "colab": {
          "base_uri": "https://localhost:8080/"
        },
        "id": "R1OYAybz07dr",
        "outputId": "bd298eae-efd9-4970-98f0-3b8bf5941c64"
      },
      "source": [
        "feature_cols = [\"sepal_length\", \"sepal_width\", \"petal_length\", \"petal_width\"]\n",
        "label_cols = [\"species\"]\n",
        "\n",
        "# select feature columns\n",
        "feature_dataset = tfio.IODataset.from_orc(\"iris.orc\", columns=feature_cols)\n",
        "# select label columns\n",
        "label_dataset = tfio.IODataset.from_orc(\"iris.orc\", columns=label_cols)\n",
        "\n",
        "@tf.function\n",
        "def species_float_conversion(x):\n",
        "    if x == \"virginica\":\n",
        "        return 1.0\n",
        "    if x == \"versicolor\":\n",
        "        return 2.0\n",
        "    if x == \"setosa\":\n",
        "        return 3.0\n",
        "    return 4.0\n",
        "\n",
        "label_dataset = label_dataset.map(species_float_conversion)\n",
        "dataset = tf.data.Dataset.zip((feature_dataset, label_dataset))\n",
        "dataset = dataset.batch(1)\n",
        "\n",
        "def pack_features_vector(features, labels):\n",
        "    \"\"\"Pack the features into a single array.\"\"\"\n",
        "    features = tf.stack(list(features), axis=1)\n",
        "    return features, labels\n",
        "\n",
        "dataset = dataset.map(pack_features_vector)\n",
        "\n",
        "model = tf.keras.Sequential(\n",
        "    [\n",
        "        tf.keras.layers.Dense(\n",
        "            10, activation=tf.nn.relu, input_shape=(4,)\n",
        "        ),  # input shape required\n",
        "        tf.keras.layers.Dense(10, activation=tf.nn.relu),\n",
        "        tf.keras.layers.Dense(3),\n",
        "    ]\n",
        ")\n",
        "\n",
        "model.compile(optimizer=\"adam\", loss=\"binary_crossentropy\", metrics=[\"accuracy\"])\n",
        "model.fit(dataset, epochs=5)"
      ],
      "execution_count": 10,
      "outputs": [
        {
          "output_type": "stream",
          "text": [
            "Epoch 1/5\n",
            "150/150 [==============================] - 1s 1ms/step - loss: -15.2493 - accuracy: 0.3333\n",
            "Epoch 2/5\n",
            "150/150 [==============================] - 0s 1ms/step - loss: -15.2493 - accuracy: 0.3333\n",
            "Epoch 3/5\n",
            "150/150 [==============================] - 0s 2ms/step - loss: -15.2493 - accuracy: 0.3333\n",
            "Epoch 4/5\n",
            "150/150 [==============================] - 0s 1ms/step - loss: -15.2493 - accuracy: 0.3333\n",
            "Epoch 5/5\n",
            "150/150 [==============================] - 0s 1ms/step - loss: -15.2493 - accuracy: 0.3333\n"
          ],
          "name": "stdout"
        },
        {
          "output_type": "execute_result",
          "data": {
            "text/plain": [
              "<tensorflow.python.keras.callbacks.History at 0x7ff39a4e5b50>"
            ]
          },
          "metadata": {
            "tags": []
          },
          "execution_count": 10
        }
      ]
    }
  ]
}